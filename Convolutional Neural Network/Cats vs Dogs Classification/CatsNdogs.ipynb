{
 "cells": [
  {
   "cell_type": "code",
   "execution_count": 20,
   "metadata": {},
   "outputs": [],
   "source": [
    "import warnings\n",
    "warnings.filterwarnings('ignore')\n",
    "import pandas as pd\n",
    "import numpy as np\n",
    "import cv2\n",
    "import matplotlib.pyplot as plt\n",
    "import seaborn as sns\n",
    "import pydot\n",
    "\n",
    "from IPython.display import SVG\n",
    "from keras.utils.vis_utils import model_to_dot\n",
    "from keras.utils import plot_model\n",
    "from keras.models import Sequential\n",
    "from keras.layers import Conv2D,MaxPooling2D,Flatten,Dense,Activation,Dropout\n",
    "from keras.utils.np_utils import to_categorical\n",
    "from keras.preprocessing.image import ImageDataGenerator\n",
    "from keras.preprocessing import image\n",
    "\n",
    "from sklearn.metrics import classification_report"
   ]
  },
  {
   "cell_type": "markdown",
   "metadata": {},
   "source": [
    "- When we are working with custom image data we need to store the data in folders in a particular way as well.\n",
    "- All the images have to be correctly numbered.\n",
    "- We need to create 2 folders namely train and test.\n",
    "- Inisde train and test we need to divide the images according to their categories.\n",
    "\n",
    "- Unfortunately we cannot read all the data at once as it is gigabytes of data. Soo we need to use keras.preprocessing to create batches of images .\n",
    "- If we create image datasets with slight transformations and random fluctuations it will create for a stronger model.\n",
    "\n",
    "#### Image Data Generator\n",
    "\n",
    "- Its usually a good idea to manipulate the images with rotation, resizing, and scaling so the model becomes more robust to different images that our data set doesn't have. We can use the **ImageDataGenerator** to do this automatically for us. Check out the documentation for a full list of all the parameters you can use here!\n",
    "- **rotation_range**: It will randomly rotate images in a certain range. We shouldn't give very large rotations to the images.\n",
    "- **width_shift_range**: Shift the pic width by a max of n% in the x direction.(0-1)\n",
    "- **height_shift_range**: Shift the pic height by a max of n% in the y direction.(0-1)\n",
    "- **rescale**: Rescale the image by normalzing it.\n",
    "- **shear_range**: Shear means cutting away part of the image/cropping(max of n%)\n",
    "- **zoom_range**: Zoom in by n% max.(0-1)\n",
    "- **horizontal_flip**: Flips the image horizontally.\n",
    "- **fill_mode**: Fill in missing pixels with the nearest filled value.\n",
    "\n",
    "- We can directly view at the generated image by calling image_gen.random_transform(img_name).\n",
    "\n",
    "\n",
    "- The Dropout layer randomly turns of n%(0-1) of neurons to avoid overfitting.\n",
    "- A good starting point for batch size is 16 , and the batch size is situation based."
   ]
  },
  {
   "cell_type": "code",
   "execution_count": 3,
   "metadata": {},
   "outputs": [],
   "source": [
    "image_gen = ImageDataGenerator(rotation_range=30, # rotate the image 30 degrees\n",
    "                               width_shift_range=0.1, # Shift the pic width by a max of 10%\n",
    "                               height_shift_range=0.1, # Shift the pic height by a max of 10%\n",
    "                               rescale=1/255, # Rescale the image by normalzing it.\n",
    "                               shear_range=0.2, # Shear means cutting away part of the image (max 20%)\n",
    "                               zoom_range=0.2, # Zoom in by 20% max\n",
    "                               horizontal_flip=True, # Allo horizontal flipping\n",
    "                               fill_mode='nearest' # Fill in missing pixels with the nearest filled value\n",
    "                              )"
   ]
  },
  {
   "cell_type": "markdown",
   "metadata": {},
   "source": [
    "### Generating many manipulated images from a directory\n",
    "\n",
    "\n",
    "In order to use .flow_from_directory, you must organize the images in sub-directories. This is an absolute requirement, otherwise the method won't work. The directories should only contain images of one class, so one folder per class of images.\n",
    "\n",
    "Structure Needed:\n",
    "\n",
    "* Image Data Folder\n",
    "    * Class 1\n",
    "        * 0.jpg\n",
    "        * 1.jpg\n",
    "        * ...\n",
    "    * Class 2\n",
    "        * 0.jpg\n",
    "        * 1.jpg\n",
    "        * ...\n",
    "    * ...\n",
    "    * Class n"
   ]
  },
  {
   "cell_type": "code",
   "execution_count": 4,
   "metadata": {},
   "outputs": [],
   "source": [
    "# width,height,channels\n",
    "# taking almost the average of hieght and width of all images.\n",
    "image_shape = (150,150,3)"
   ]
  },
  {
   "cell_type": "code",
   "execution_count": 5,
   "metadata": {},
   "outputs": [],
   "source": [
    "model = Sequential()\n",
    "\n",
    "model.add(Conv2D(filters=32, kernel_size=(3,3),input_shape=(150,150,3), activation='relu',))\n",
    "model.add(MaxPooling2D(pool_size=(2, 2)))\n",
    "\n",
    "model.add(Conv2D(filters=64, kernel_size=(3,3),input_shape=(150,150,3), activation='relu',))\n",
    "model.add(MaxPooling2D(pool_size=(2, 2)))\n",
    "\n",
    "model.add(Conv2D(filters=64, kernel_size=(3,3),input_shape=(150,150,3), activation='relu',))\n",
    "model.add(MaxPooling2D(pool_size=(2, 2)))\n",
    "\n",
    "\n",
    "model.add(Flatten())\n",
    "\n",
    "\n",
    "model.add(Dense(128))\n",
    "model.add(Activation('relu'))\n",
    "\n",
    "# Dropouts help reduce overfitting by randomly turning neurons off during training.\n",
    "# Here we say randomly turn off 50% of neurons.\n",
    "model.add(Dropout(0.5))\n",
    "\n",
    "# Last layer, remember its binary, 0=cat , 1=dog\n",
    "model.add(Dense(1))\n",
    "model.add(Activation('sigmoid'))\n",
    "\n",
    "model.compile(loss='binary_crossentropy',\n",
    "              optimizer='adam',\n",
    "              metrics=['accuracy'])"
   ]
  },
  {
   "cell_type": "code",
   "execution_count": 6,
   "metadata": {},
   "outputs": [
    {
     "name": "stdout",
     "output_type": "stream",
     "text": [
      "Model: \"sequential_1\"\n",
      "_________________________________________________________________\n",
      "Layer (type)                 Output Shape              Param #   \n",
      "=================================================================\n",
      "conv2d_1 (Conv2D)            (None, 148, 148, 32)      896       \n",
      "_________________________________________________________________\n",
      "max_pooling2d_1 (MaxPooling2 (None, 74, 74, 32)        0         \n",
      "_________________________________________________________________\n",
      "conv2d_2 (Conv2D)            (None, 72, 72, 64)        18496     \n",
      "_________________________________________________________________\n",
      "max_pooling2d_2 (MaxPooling2 (None, 36, 36, 64)        0         \n",
      "_________________________________________________________________\n",
      "conv2d_3 (Conv2D)            (None, 34, 34, 64)        36928     \n",
      "_________________________________________________________________\n",
      "max_pooling2d_3 (MaxPooling2 (None, 17, 17, 64)        0         \n",
      "_________________________________________________________________\n",
      "flatten_1 (Flatten)          (None, 18496)             0         \n",
      "_________________________________________________________________\n",
      "dense_1 (Dense)              (None, 128)               2367616   \n",
      "_________________________________________________________________\n",
      "activation_1 (Activation)    (None, 128)               0         \n",
      "_________________________________________________________________\n",
      "dropout_1 (Dropout)          (None, 128)               0         \n",
      "_________________________________________________________________\n",
      "dense_2 (Dense)              (None, 1)                 129       \n",
      "_________________________________________________________________\n",
      "activation_2 (Activation)    (None, 1)                 0         \n",
      "=================================================================\n",
      "Total params: 2,424,065\n",
      "Trainable params: 2,424,065\n",
      "Non-trainable params: 0\n",
      "_________________________________________________________________\n"
     ]
    }
   ],
   "source": [
    "model.summary()"
   ]
  },
  {
   "cell_type": "code",
   "execution_count": 7,
   "metadata": {},
   "outputs": [
    {
     "name": "stdout",
     "output_type": "stream",
     "text": [
      "Found 18743 images belonging to 2 classes.\n"
     ]
    }
   ],
   "source": [
    "batch_size = 16\n",
    "\n",
    "# We have resized the image here while making the batches.\n",
    "# class mode is binary as we have only cats and dogs.\n",
    "train_image_gen = image_gen.flow_from_directory('CATS_DOGS/train',\n",
    "                                               target_size=image_shape[:2],\n",
    "                                               batch_size=batch_size,\n",
    "                                               class_mode='binary')"
   ]
  },
  {
   "cell_type": "code",
   "execution_count": 8,
   "metadata": {},
   "outputs": [
    {
     "name": "stdout",
     "output_type": "stream",
     "text": [
      "Found 6251 images belonging to 2 classes.\n"
     ]
    }
   ],
   "source": [
    "test_image_gen = image_gen.flow_from_directory('CATS_DOGS/test',\n",
    "                                               target_size=image_shape[:2],\n",
    "                                               batch_size=batch_size,\n",
    "                                               class_mode='binary')"
   ]
  },
  {
   "cell_type": "code",
   "execution_count": 9,
   "metadata": {},
   "outputs": [
    {
     "data": {
      "text/plain": [
       "{'CAT': 0, 'DOG': 1}"
      ]
     },
     "execution_count": 9,
     "metadata": {},
     "output_type": "execute_result"
    }
   ],
   "source": [
    "train_image_gen.class_indices"
   ]
  },
  {
   "cell_type": "code",
   "execution_count": 10,
   "metadata": {},
   "outputs": [
    {
     "name": "stdout",
     "output_type": "stream",
     "text": [
      "Epoch 1/100\n",
      "300/300 [==============================] - 60s 201ms/step - loss: 0.6936 - accuracy: 0.5194 - val_loss: 0.7139 - val_accuracy: 0.5656\n",
      "Epoch 2/100\n",
      "300/300 [==============================] - 62s 206ms/step - loss: 0.6806 - accuracy: 0.5800 - val_loss: 0.6312 - val_accuracy: 0.5781\n",
      "Epoch 3/100\n",
      "300/300 [==============================] - 63s 210ms/step - loss: 0.6668 - accuracy: 0.5973 - val_loss: 0.6020 - val_accuracy: 0.6438\n",
      "Epoch 4/100\n",
      "300/300 [==============================] - 60s 201ms/step - loss: 0.6669 - accuracy: 0.5969 - val_loss: 0.6987 - val_accuracy: 0.6531\n",
      "Epoch 5/100\n",
      "300/300 [==============================] - 64s 212ms/step - loss: 0.6602 - accuracy: 0.6070 - val_loss: 0.5518 - val_accuracy: 0.6438\n",
      "Epoch 6/100\n",
      "300/300 [==============================] - 63s 211ms/step - loss: 0.6519 - accuracy: 0.6273 - val_loss: 0.5572 - val_accuracy: 0.6719\n",
      "Epoch 7/100\n",
      "300/300 [==============================] - 61s 204ms/step - loss: 0.6318 - accuracy: 0.6519 - val_loss: 0.5915 - val_accuracy: 0.6812\n",
      "Epoch 8/100\n",
      "300/300 [==============================] - 60s 201ms/step - loss: 0.6155 - accuracy: 0.6640 - val_loss: 0.6112 - val_accuracy: 0.6687\n",
      "Epoch 9/100\n",
      "300/300 [==============================] - 63s 211ms/step - loss: 0.6042 - accuracy: 0.6721 - val_loss: 0.3723 - val_accuracy: 0.7063\n",
      "Epoch 10/100\n",
      "300/300 [==============================] - 66s 220ms/step - loss: 0.6016 - accuracy: 0.6769 - val_loss: 0.6012 - val_accuracy: 0.6719\n",
      "Epoch 11/100\n",
      "300/300 [==============================] - 63s 210ms/step - loss: 0.5946 - accuracy: 0.6871 - val_loss: 0.5409 - val_accuracy: 0.7125\n",
      "Epoch 12/100\n",
      "300/300 [==============================] - 64s 213ms/step - loss: 0.5695 - accuracy: 0.7072 - val_loss: 0.5647 - val_accuracy: 0.7000\n",
      "Epoch 13/100\n",
      "300/300 [==============================] - 65s 216ms/step - loss: 0.5862 - accuracy: 0.6925 - val_loss: 0.6281 - val_accuracy: 0.7188\n",
      "Epoch 14/100\n",
      "300/300 [==============================] - 64s 215ms/step - loss: 0.5607 - accuracy: 0.7182 - val_loss: 0.4778 - val_accuracy: 0.7719\n",
      "Epoch 15/100\n",
      "300/300 [==============================] - 63s 211ms/step - loss: 0.5619 - accuracy: 0.7121 - val_loss: 0.6510 - val_accuracy: 0.6969\n",
      "Epoch 16/100\n",
      "300/300 [==============================] - 65s 218ms/step - loss: 0.5643 - accuracy: 0.7200 - val_loss: 0.6377 - val_accuracy: 0.6875\n",
      "Epoch 17/100\n",
      "300/300 [==============================] - 63s 210ms/step - loss: 0.5525 - accuracy: 0.7198 - val_loss: 0.5959 - val_accuracy: 0.7094\n",
      "Epoch 18/100\n",
      "300/300 [==============================] - 59s 196ms/step - loss: 0.5392 - accuracy: 0.7392 - val_loss: 0.5518 - val_accuracy: 0.7406\n",
      "Epoch 19/100\n",
      "300/300 [==============================] - 57s 190ms/step - loss: 0.5303 - accuracy: 0.7447 - val_loss: 0.3417 - val_accuracy: 0.7719\n",
      "Epoch 20/100\n",
      "300/300 [==============================] - 57s 190ms/step - loss: 0.5210 - accuracy: 0.7498 - val_loss: 0.5365 - val_accuracy: 0.7524\n",
      "Epoch 21/100\n",
      "300/300 [==============================] - 57s 189ms/step - loss: 0.5204 - accuracy: 0.7465 - val_loss: 0.5367 - val_accuracy: 0.7375\n",
      "Epoch 22/100\n",
      "300/300 [==============================] - 57s 191ms/step - loss: 0.5179 - accuracy: 0.7575 - val_loss: 0.6321 - val_accuracy: 0.7156\n",
      "Epoch 23/100\n",
      "300/300 [==============================] - 57s 190ms/step - loss: 0.5019 - accuracy: 0.7594 - val_loss: 0.5296 - val_accuracy: 0.7937\n",
      "Epoch 24/100\n",
      "300/300 [==============================] - 57s 190ms/step - loss: 0.5084 - accuracy: 0.7547 - val_loss: 0.2706 - val_accuracy: 0.7469\n",
      "Epoch 25/100\n",
      "300/300 [==============================] - 57s 188ms/step - loss: 0.4992 - accuracy: 0.7614 - val_loss: 0.5853 - val_accuracy: 0.7750\n",
      "Epoch 26/100\n",
      "300/300 [==============================] - 57s 190ms/step - loss: 0.4999 - accuracy: 0.7606 - val_loss: 0.4704 - val_accuracy: 0.7344\n",
      "Epoch 27/100\n",
      "300/300 [==============================] - 57s 190ms/step - loss: 0.4767 - accuracy: 0.7775 - val_loss: 0.4125 - val_accuracy: 0.8000\n",
      "Epoch 28/100\n",
      "300/300 [==============================] - 57s 190ms/step - loss: 0.4896 - accuracy: 0.7675 - val_loss: 0.3143 - val_accuracy: 0.8281\n",
      "Epoch 29/100\n",
      "300/300 [==============================] - 57s 189ms/step - loss: 0.4697 - accuracy: 0.7727 - val_loss: 0.4663 - val_accuracy: 0.7375\n",
      "Epoch 30/100\n",
      "300/300 [==============================] - 57s 189ms/step - loss: 0.4704 - accuracy: 0.7842 - val_loss: 0.7028 - val_accuracy: 0.7937\n",
      "Epoch 31/100\n",
      "300/300 [==============================] - 57s 191ms/step - loss: 0.4599 - accuracy: 0.7802 - val_loss: 0.3783 - val_accuracy: 0.8156\n",
      "Epoch 32/100\n",
      "300/300 [==============================] - 57s 189ms/step - loss: 0.4478 - accuracy: 0.7937 - val_loss: 0.2064 - val_accuracy: 0.8094\n",
      "Epoch 33/100\n",
      "300/300 [==============================] - 58s 193ms/step - loss: 0.4577 - accuracy: 0.7810 - val_loss: 0.3688 - val_accuracy: 0.8406\n",
      "Epoch 34/100\n",
      "300/300 [==============================] - 57s 191ms/step - loss: 0.4598 - accuracy: 0.7921 - val_loss: 0.5036 - val_accuracy: 0.8313\n",
      "Epoch 35/100\n",
      "300/300 [==============================] - 57s 190ms/step - loss: 0.4497 - accuracy: 0.7940 - val_loss: 0.2533 - val_accuracy: 0.8125\n",
      "Epoch 36/100\n",
      "300/300 [==============================] - 57s 190ms/step - loss: 0.4221 - accuracy: 0.8108 - val_loss: 0.5465 - val_accuracy: 0.7844\n",
      "Epoch 37/100\n",
      "300/300 [==============================] - 57s 189ms/step - loss: 0.4310 - accuracy: 0.8044 - val_loss: 0.4570 - val_accuracy: 0.8156\n",
      "Epoch 38/100\n",
      "300/300 [==============================] - 57s 189ms/step - loss: 0.4354 - accuracy: 0.8032 - val_loss: 0.6027 - val_accuracy: 0.7594\n",
      "Epoch 39/100\n",
      "300/300 [==============================] - 57s 190ms/step - loss: 0.4384 - accuracy: 0.7992 - val_loss: 0.3780 - val_accuracy: 0.7969\n",
      "Epoch 40/100\n",
      "300/300 [==============================] - 58s 194ms/step - loss: 0.4239 - accuracy: 0.8109 - val_loss: 0.5567 - val_accuracy: 0.7968\n",
      "Epoch 41/100\n",
      "300/300 [==============================] - 57s 190ms/step - loss: 0.4037 - accuracy: 0.8112 - val_loss: 0.5965 - val_accuracy: 0.8156\n",
      "Epoch 42/100\n",
      "300/300 [==============================] - 57s 190ms/step - loss: 0.4177 - accuracy: 0.8092 - val_loss: 0.4986 - val_accuracy: 0.8062\n",
      "Epoch 43/100\n",
      "300/300 [==============================] - 57s 190ms/step - loss: 0.4262 - accuracy: 0.8073 - val_loss: 0.2913 - val_accuracy: 0.8156\n",
      "Epoch 44/100\n",
      "300/300 [==============================] - 57s 190ms/step - loss: 0.4057 - accuracy: 0.8200 - val_loss: 0.4438 - val_accuracy: 0.8375\n",
      "Epoch 45/100\n",
      "300/300 [==============================] - 57s 191ms/step - loss: 0.4258 - accuracy: 0.8027 - val_loss: 0.4345 - val_accuracy: 0.8094\n",
      "Epoch 46/100\n",
      "300/300 [==============================] - 57s 190ms/step - loss: 0.3959 - accuracy: 0.8181 - val_loss: 0.5565 - val_accuracy: 0.7969\n",
      "Epoch 47/100\n",
      "300/300 [==============================] - 65s 216ms/step - loss: 0.3988 - accuracy: 0.8240 - val_loss: 0.4355 - val_accuracy: 0.8313\n",
      "Epoch 48/100\n",
      "300/300 [==============================] - 58s 193ms/step - loss: 0.3796 - accuracy: 0.8297 - val_loss: 0.4528 - val_accuracy: 0.8531\n",
      "Epoch 49/100\n",
      "300/300 [==============================] - 61s 202ms/step - loss: 0.3954 - accuracy: 0.8233 - val_loss: 0.4902 - val_accuracy: 0.8531\n",
      "Epoch 50/100\n",
      "300/300 [==============================] - 62s 207ms/step - loss: 0.4025 - accuracy: 0.8210 - val_loss: 0.3736 - val_accuracy: 0.8375\n",
      "Epoch 51/100\n",
      "300/300 [==============================] - 60s 201ms/step - loss: 0.4029 - accuracy: 0.8240 - val_loss: 0.4308 - val_accuracy: 0.8094\n",
      "Epoch 52/100\n",
      "300/300 [==============================] - 61s 202ms/step - loss: 0.3842 - accuracy: 0.8283 - val_loss: 0.5037 - val_accuracy: 0.8219\n",
      "Epoch 53/100\n",
      "300/300 [==============================] - 62s 207ms/step - loss: 0.3875 - accuracy: 0.8317 - val_loss: 0.3509 - val_accuracy: 0.7844\n",
      "Epoch 54/100\n",
      "300/300 [==============================] - 61s 204ms/step - loss: 0.3989 - accuracy: 0.8203 - val_loss: 0.2899 - val_accuracy: 0.8562\n",
      "Epoch 55/100\n",
      "300/300 [==============================] - 60s 201ms/step - loss: 0.3753 - accuracy: 0.8369 - val_loss: 0.5072 - val_accuracy: 0.8062\n",
      "Epoch 56/100\n",
      "300/300 [==============================] - 62s 206ms/step - loss: 0.3860 - accuracy: 0.8296 - val_loss: 0.2336 - val_accuracy: 0.8031\n"
     ]
    },
    {
     "name": "stdout",
     "output_type": "stream",
     "text": [
      "Epoch 57/100\n",
      "300/300 [==============================] - 61s 205ms/step - loss: 0.3688 - accuracy: 0.8410 - val_loss: 0.2228 - val_accuracy: 0.8594\n",
      "Epoch 58/100\n",
      "300/300 [==============================] - 61s 202ms/step - loss: 0.3746 - accuracy: 0.8431 - val_loss: 0.3157 - val_accuracy: 0.8656\n",
      "Epoch 59/100\n",
      "300/300 [==============================] - 61s 202ms/step - loss: 0.3891 - accuracy: 0.8293 - val_loss: 0.1737 - val_accuracy: 0.8032\n",
      "Epoch 60/100\n",
      "300/300 [==============================] - 61s 204ms/step - loss: 0.3625 - accuracy: 0.8413 - val_loss: 0.8079 - val_accuracy: 0.8156\n",
      "Epoch 61/100\n",
      "300/300 [==============================] - 62s 205ms/step - loss: 0.3768 - accuracy: 0.8384 - val_loss: 0.7632 - val_accuracy: 0.8281\n",
      "Epoch 62/100\n",
      "300/300 [==============================] - 61s 204ms/step - loss: 0.3684 - accuracy: 0.8377 - val_loss: 0.3083 - val_accuracy: 0.8313\n",
      "Epoch 63/100\n",
      "300/300 [==============================] - 61s 203ms/step - loss: 0.3594 - accuracy: 0.8402 - val_loss: 0.2552 - val_accuracy: 0.8250\n",
      "Epoch 64/100\n",
      "300/300 [==============================] - 62s 206ms/step - loss: 0.3435 - accuracy: 0.8504 - val_loss: 0.3099 - val_accuracy: 0.8687\n",
      "Epoch 65/100\n",
      "300/300 [==============================] - 65s 217ms/step - loss: 0.3630 - accuracy: 0.8352 - val_loss: 0.2772 - val_accuracy: 0.8125\n",
      "Epoch 66/100\n",
      "300/300 [==============================] - 63s 211ms/step - loss: 0.3701 - accuracy: 0.8398 - val_loss: 0.1588 - val_accuracy: 0.8469\n",
      "Epoch 67/100\n",
      "300/300 [==============================] - 65s 218ms/step - loss: 0.3554 - accuracy: 0.8478 - val_loss: 0.2390 - val_accuracy: 0.8656\n",
      "Epoch 68/100\n",
      "300/300 [==============================] - 64s 214ms/step - loss: 0.3412 - accuracy: 0.8510 - val_loss: 0.7295 - val_accuracy: 0.8469\n",
      "Epoch 69/100\n",
      "300/300 [==============================] - 60s 200ms/step - loss: 0.3591 - accuracy: 0.8429 - val_loss: 0.2269 - val_accuracy: 0.8906\n",
      "Epoch 70/100\n",
      "300/300 [==============================] - 61s 203ms/step - loss: 0.3529 - accuracy: 0.8473 - val_loss: 0.3936 - val_accuracy: 0.8500\n",
      "Epoch 71/100\n",
      "300/300 [==============================] - 60s 201ms/step - loss: 0.3669 - accuracy: 0.8399 - val_loss: 0.2286 - val_accuracy: 0.8281\n",
      "Epoch 72/100\n",
      "300/300 [==============================] - 60s 201ms/step - loss: 0.3519 - accuracy: 0.8427 - val_loss: 0.2521 - val_accuracy: 0.8562\n",
      "Epoch 73/100\n",
      "300/300 [==============================] - 60s 199ms/step - loss: 0.3477 - accuracy: 0.8535 - val_loss: 0.4316 - val_accuracy: 0.8594\n",
      "Epoch 74/100\n",
      "300/300 [==============================] - 61s 203ms/step - loss: 0.3564 - accuracy: 0.8466 - val_loss: 0.6218 - val_accuracy: 0.8375\n",
      "Epoch 75/100\n",
      "300/300 [==============================] - 60s 199ms/step - loss: 0.3509 - accuracy: 0.8429 - val_loss: 0.4389 - val_accuracy: 0.8375\n",
      "Epoch 76/100\n",
      "300/300 [==============================] - 59s 198ms/step - loss: 0.3305 - accuracy: 0.8498 - val_loss: 0.5325 - val_accuracy: 0.8219\n",
      "Epoch 77/100\n",
      "300/300 [==============================] - 62s 206ms/step - loss: 0.3414 - accuracy: 0.8506 - val_loss: 0.2215 - val_accuracy: 0.8500\n",
      "Epoch 78/100\n",
      "300/300 [==============================] - 59s 198ms/step - loss: 0.3457 - accuracy: 0.8587 - val_loss: 0.3107 - val_accuracy: 0.8125\n",
      "Epoch 79/100\n",
      "300/300 [==============================] - 68s 228ms/step - loss: 0.3451 - accuracy: 0.8519 - val_loss: 0.3905 - val_accuracy: 0.8762\n",
      "Epoch 80/100\n",
      "300/300 [==============================] - 60s 199ms/step - loss: 0.3363 - accuracy: 0.8542 - val_loss: 0.3250 - val_accuracy: 0.8188\n",
      "Epoch 81/100\n",
      "300/300 [==============================] - 59s 197ms/step - loss: 0.3532 - accuracy: 0.8514 - val_loss: 0.1310 - val_accuracy: 0.8687\n",
      "Epoch 82/100\n",
      "300/300 [==============================] - 59s 197ms/step - loss: 0.3390 - accuracy: 0.8506 - val_loss: 0.3568 - val_accuracy: 0.8438\n",
      "Epoch 83/100\n",
      "300/300 [==============================] - 60s 199ms/step - loss: 0.3377 - accuracy: 0.8548 - val_loss: 0.4154 - val_accuracy: 0.8594\n",
      "Epoch 84/100\n",
      "300/300 [==============================] - 59s 197ms/step - loss: 0.3274 - accuracy: 0.8562 - val_loss: 0.5365 - val_accuracy: 0.8281\n",
      "Epoch 85/100\n",
      "300/300 [==============================] - 63s 209ms/step - loss: 0.3434 - accuracy: 0.8494 - val_loss: 0.5771 - val_accuracy: 0.8750\n",
      "Epoch 86/100\n",
      "300/300 [==============================] - 59s 197ms/step - loss: 0.3359 - accuracy: 0.8495 - val_loss: 0.3477 - val_accuracy: 0.8750\n",
      "Epoch 87/100\n",
      "300/300 [==============================] - 59s 197ms/step - loss: 0.3413 - accuracy: 0.8512 - val_loss: 0.6158 - val_accuracy: 0.8562\n",
      "Epoch 88/100\n",
      "300/300 [==============================] - 59s 197ms/step - loss: 0.3276 - accuracy: 0.8600 - val_loss: 0.2178 - val_accuracy: 0.8656\n",
      "Epoch 89/100\n",
      "300/300 [==============================] - 60s 201ms/step - loss: 0.3234 - accuracy: 0.8640 - val_loss: 0.1365 - val_accuracy: 0.8250\n",
      "Epoch 90/100\n",
      "300/300 [==============================] - 62s 206ms/step - loss: 0.3214 - accuracy: 0.8621 - val_loss: 0.4251 - val_accuracy: 0.8594\n",
      "Epoch 91/100\n",
      "300/300 [==============================] - 61s 202ms/step - loss: 0.3396 - accuracy: 0.8585 - val_loss: 0.4003 - val_accuracy: 0.8219\n",
      "Epoch 92/100\n",
      "300/300 [==============================] - 60s 201ms/step - loss: 0.3162 - accuracy: 0.8629 - val_loss: 0.2241 - val_accuracy: 0.8719\n",
      "Epoch 93/100\n",
      "300/300 [==============================] - 60s 201ms/step - loss: 0.3223 - accuracy: 0.8629 - val_loss: 0.3308 - val_accuracy: 0.8281\n",
      "Epoch 94/100\n",
      "300/300 [==============================] - 62s 206ms/step - loss: 0.3155 - accuracy: 0.8654 - val_loss: 0.6443 - val_accuracy: 0.8375\n",
      "Epoch 95/100\n",
      "300/300 [==============================] - 61s 203ms/step - loss: 0.3122 - accuracy: 0.8665 - val_loss: 0.3078 - val_accuracy: 0.8594\n",
      "Epoch 96/100\n",
      "300/300 [==============================] - 64s 213ms/step - loss: 0.3289 - accuracy: 0.8579 - val_loss: 0.2568 - val_accuracy: 0.8531\n",
      "Epoch 97/100\n",
      "300/300 [==============================] - 70s 232ms/step - loss: 0.3133 - accuracy: 0.8654 - val_loss: 0.3820 - val_accuracy: 0.8500\n",
      "Epoch 98/100\n",
      "300/300 [==============================] - 63s 208ms/step - loss: 0.3210 - accuracy: 0.8569 - val_loss: 0.3295 - val_accuracy: 0.8635\n",
      "Epoch 99/100\n",
      "300/300 [==============================] - 62s 206ms/step - loss: 0.3101 - accuracy: 0.8641 - val_loss: 0.1125 - val_accuracy: 0.8813\n",
      "Epoch 100/100\n",
      "300/300 [==============================] - 61s 204ms/step - loss: 0.3213 - accuracy: 0.8610 - val_loss: 0.3688 - val_accuracy: 0.8469\n"
     ]
    }
   ],
   "source": [
    "results = model.fit_generator(train_image_gen,epochs=100,\n",
    "                              steps_per_epoch=300,\n",
    "                              validation_data=test_image_gen,\n",
    "                             validation_steps=20)"
   ]
  },
  {
   "cell_type": "code",
   "execution_count": 11,
   "metadata": {},
   "outputs": [
    {
     "data": {
      "text/plain": [
       "[0.519375,\n",
       " 0.58004594,\n",
       " 0.59729165,\n",
       " 0.596875,\n",
       " 0.6069714,\n",
       " 0.6272917,\n",
       " 0.651875,\n",
       " 0.6639583,\n",
       " 0.6720833,\n",
       " 0.676875,\n",
       " 0.6870833,\n",
       " 0.7071593,\n",
       " 0.6925,\n",
       " 0.71822166,\n",
       " 0.71208334,\n",
       " 0.72,\n",
       " 0.71979165,\n",
       " 0.7391667,\n",
       " 0.7447297,\n",
       " 0.7497917,\n",
       " 0.74645835,\n",
       " 0.7575,\n",
       " 0.759375,\n",
       " 0.75474846,\n",
       " 0.7614277,\n",
       " 0.760625,\n",
       " 0.7775,\n",
       " 0.7675,\n",
       " 0.7726988,\n",
       " 0.7841667,\n",
       " 0.78020835,\n",
       " 0.79375,\n",
       " 0.7810417,\n",
       " 0.7920833,\n",
       " 0.7939887,\n",
       " 0.81083333,\n",
       " 0.804375,\n",
       " 0.8031726,\n",
       " 0.7991667,\n",
       " 0.81089544,\n",
       " 0.81125,\n",
       " 0.80916667,\n",
       " 0.8072917,\n",
       " 0.82,\n",
       " 0.8027083,\n",
       " 0.818125,\n",
       " 0.82404506,\n",
       " 0.8296806,\n",
       " 0.8233333,\n",
       " 0.82104164,\n",
       " 0.82395834,\n",
       " 0.8283333,\n",
       " 0.83166665,\n",
       " 0.82028806,\n",
       " 0.836875,\n",
       " 0.82958335,\n",
       " 0.8410417,\n",
       " 0.843125,\n",
       " 0.8292632,\n",
       " 0.84125,\n",
       " 0.8384471,\n",
       " 0.83770835,\n",
       " 0.84020835,\n",
       " 0.85041666,\n",
       " 0.83520836,\n",
       " 0.83979166,\n",
       " 0.8478397,\n",
       " 0.8510417,\n",
       " 0.84291667,\n",
       " 0.84729165,\n",
       " 0.8399082,\n",
       " 0.84270835,\n",
       " 0.8535417,\n",
       " 0.84658736,\n",
       " 0.84291667,\n",
       " 0.84979165,\n",
       " 0.850625,\n",
       " 0.85869336,\n",
       " 0.851875,\n",
       " 0.8541667,\n",
       " 0.85138804,\n",
       " 0.850625,\n",
       " 0.85479164,\n",
       " 0.85625,\n",
       " 0.849375,\n",
       " 0.8495095,\n",
       " 0.8511793,\n",
       " 0.86,\n",
       " 0.86395836,\n",
       " 0.8620833,\n",
       " 0.85854167,\n",
       " 0.8628679,\n",
       " 0.86291665,\n",
       " 0.86541665,\n",
       " 0.86645836,\n",
       " 0.8578585,\n",
       " 0.86541665,\n",
       " 0.856875,\n",
       " 0.86412024,\n",
       " 0.86104167]"
      ]
     },
     "execution_count": 11,
     "metadata": {},
     "output_type": "execute_result"
    }
   ],
   "source": [
    "results.history['accuracy']"
   ]
  },
  {
   "cell_type": "code",
   "execution_count": 12,
   "metadata": {},
   "outputs": [
    {
     "data": {
      "text/plain": [
       "[<matplotlib.lines.Line2D at 0x19015f6d048>]"
      ]
     },
     "execution_count": 12,
     "metadata": {},
     "output_type": "execute_result"
    },
    {
     "data": {
      "image/png": "[encoded data removed]",
      "text/plain": [
       "<Figure size 432x288 with 1 Axes>"
      ]
     },
     "metadata": {
      "needs_background": "light"
     },
     "output_type": "display_data"
    }
   ],
   "source": [
    "plt.plot(results.history['accuracy'])"
   ]
  },
  {
   "cell_type": "markdown",
   "metadata": {},
   "source": [
    "### Predicting output for a test image."
   ]
  },
  {
   "cell_type": "code",
   "execution_count": 13,
   "metadata": {},
   "outputs": [],
   "source": [
    "dog_file = 'CATS_DOGS/train/Dog/2.jpg'\n",
    "\n",
    "dog_img = image.load_img(dog_file, target_size=(150, 150))\n",
    "\n",
    "dog_img = image.img_to_array(dog_img)\n",
    "\n",
    "dog_img = np.expand_dims(dog_img, axis=0) #We need to expand the dimensions before predicting.\n",
    "dog_img = dog_img/255"
   ]
  },
  {
   "cell_type": "code",
   "execution_count": 14,
   "metadata": {},
   "outputs": [],
   "source": [
    "prediction_prob = model.predict(dog_img)"
   ]
  },
  {
   "cell_type": "code",
   "execution_count": 15,
   "metadata": {},
   "outputs": [
    {
     "name": "stdout",
     "output_type": "stream",
     "text": [
      "Probability that image is a dog is: [[0.7312466]] \n"
     ]
    }
   ],
   "source": [
    "print(f'Probability that image is a dog is: {prediction_prob} ')"
   ]
  },
  {
   "cell_type": "code",
   "execution_count": 19,
   "metadata": {},
   "outputs": [],
   "source": [
    "#plot_model(model,to_file='model.png')\n",
    "#SVG(model_to_dot(model).create(prog='dot',format='svg'))"
   ]
  }
 ],
 "metadata": {
  "kernelspec": {
   "display_name": "Python 3",
   "language": "python",
   "name": "python3"
  },
  "language_info": {
   "codemirror_mode": {
    "name": "ipython",
    "version": 3
   },
   "file_extension": ".py",
   "mimetype": "text/x-python",
   "name": "python",
   "nbconvert_exporter": "python",
   "pygments_lexer": "ipython3",
   "version": "3.6.12"
  }
 },
 "nbformat": 4,
 "nbformat_minor": 4
}
